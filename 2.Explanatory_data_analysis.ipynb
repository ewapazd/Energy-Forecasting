{
 "cells": [
  {
   "cell_type": "markdown",
   "metadata": {},
   "source": [
    "## 2. Explanatory Data Analysis"
   ]
  },
  {
   "cell_type": "code",
   "execution_count": null,
   "metadata": {},
   "outputs": [],
   "source": [
    "import pandas as pd\n",
    "import numpy as np\n",
    "import matplotlib.pyplot as plt\n",
    "import matplotlib as mtplt\n",
    "import datetime as dat\n",
    "from datetime import datetime\n",
    "import matplotlib.ticker as ticker"
   ]
  },
  {
   "cell_type": "code",
   "execution_count": null,
   "metadata": {},
   "outputs": [],
   "source": [
    "df = pd.read_csv('clean_df.csv')\n",
    "df['Date'] = sorted(pd.to_datetime(df['Date']))\n",
    "df.describe() # rows count, mean, std, min, percentiles, max. Getting the sense if the data have outliers, extreme values, variation, etc."
   ]
  },
  {
   "cell_type": "code",
   "execution_count": null,
   "metadata": {},
   "outputs": [],
   "source": [
    "#Checking for outliers\n",
    "df.sort_values(by = 'Power_kWh', ascending = False)[:5]"
   ]
  },
  {
   "cell_type": "code",
   "execution_count": null,
   "metadata": {},
   "outputs": [],
   "source": [
    "df.sort_values(by = 'Power_kWh', ascending = True)[:5]"
   ]
  },
  {
   "cell_type": "code",
   "execution_count": null,
   "metadata": {},
   "outputs": [],
   "source": [
    "df.sort_values(by = 'temp_C', ascending = False)[:5]"
   ]
  },
  {
   "cell_type": "code",
   "execution_count": null,
   "metadata": {},
   "outputs": [],
   "source": [
    "df.sort_values(by = 'temp_C', ascending = True)[:5]"
   ]
  },
  {
   "cell_type": "code",
   "execution_count": null,
   "metadata": {},
   "outputs": [],
   "source": [
    "plt.hist(df ['Power_kWh'], 20) ## Note: identifying outliers and a possibility for peak shaving?"
   ]
  },
  {
   "cell_type": "code",
   "execution_count": null,
   "metadata": {
    "scrolled": true
   },
   "outputs": [],
   "source": [
    "data, bins, patches = plt.hist (df['temp_C'], 20, ec = 'k') \n",
    "cmap = plt.get_cmap('jet')\n",
    "low = cmap (0.6) \n",
    "medium = cmap (0.8)\n",
    "high = cmap (0.9)\n",
    "\n",
    "for i in range(0,6): \n",
    "    patches[i].set_facecolor(low)\n",
    "for i in range(6,13): \n",
    "    patches[i].set_facecolor(medium)\n",
    "for i in range(13,20):\n",
    "    patches[i].set_facecolor(high)\n",
    "\n",
    "handles = [mtplt. patches.Rectangle ((0,0), 1, 1, color = c, ec = \"k\") for c in [low, medium, high]]\n",
    "labels = [\"low\",\"medium\", \"high\"]\n",
    "plt.legend (handles, labels)\n",
    "    \n",
    "plt.xlabel (\"Temperature, C\", fontsize = 12)\n",
    "plt.ylabel (\"Number of occurances\", fontsize = 12)\n",
    "plt.xticks (fontsize = 12)\n",
    "plt.yticks (fontsize = 12)\n",
    "\n",
    "plt.title ('Temperature Histogram')\n",
    "\n",
    "plt.show"
   ]
  },
  {
   "cell_type": "markdown",
   "metadata": {},
   "source": [
    "## Plot for the selected time series"
   ]
  },
  {
   "cell_type": "code",
   "execution_count": null,
   "metadata": {},
   "outputs": [],
   "source": [
    "df_plot_time = df.copy (deep = True)\n",
    "df_plot_time = df_plot_time.set_index ('Date', drop = False)\n",
    "df_plot_time.head()"
   ]
  },
  {
   "cell_type": "code",
   "execution_count": null,
   "metadata": {},
   "outputs": [],
   "source": [
    "fig, ax = plt.subplots()\n",
    "fig.set_size_inches(20,10)\n",
    "\n",
    "ax.xaxis.set_major_locator (ticker.MultipleLocator(60))\n",
    "ax.xaxis.set_tick_params (which = 'major', pad = 5, labelrotation = 50)\n",
    "\n",
    "x_2017 = df_plot_time ['Date'] ['2017-01-01 00:00:00' : '2017-01-20 23:00:00']\n",
    "x_2017 = x_2017.dt.strftime ('%Y-%b-%d-%H h')\n",
    "\n",
    "y_2017 = df_plot_time ['Power_kWh'][plot_start : plot_end] # select data slice\n",
    "\n",
    "plt.plot (x_values, y_values2017, '-o', color = 'blue', # x axis laels; data; symbol type *try '-p'; line color;\n",
    "         markersize = 10, linewidth = 1, # point size; line thickness;\n",
    "         markerfacecolor = 'red', # color inside the point\n",
    "         markeredgecolor = 'black', # color of edge\n",
    "         markeredgewidth = 3)"
   ]
  },
  {
   "cell_type": "markdown",
   "metadata": {},
   "source": [
    "## For two series"
   ]
  },
  {
   "cell_type": "code",
   "execution_count": null,
   "metadata": {},
   "outputs": [],
   "source": [
    "fig, ax = plt.subplots()\n",
    "fig.set_size_inches(20,10)\n",
    "\n",
    "ax.xaxis.set_major_locator (ticker.MultipleLocator(60))\n",
    "ax.xaxis.set_tick_params(which = 'major', pad = 5, labelrotation = 50)\n",
    "\n",
    "x_2017 = df_plot_time ['Date'] ['2017-01-01 00:00:00' : '2017-01-15 23:00:00']\n",
    "x_2017 = x_2017.dt.strftime ('%b-%d-%H h')\n",
    "y_2017 = df_plot_time ['Power_kWh']['2017-01-01 00:00:00' : '2017-01-15 23:00:00']\n",
    "\n",
    "x_2018 = df_plot_time ['Date'] ['2018-01-01 00:00:00' : '2018-01-15 23:00:00']\n",
    "x_2018 = x_2018.dt.strftime ('%b-%d-%H h')\n",
    "y_2018 = df_plot_time ['Power_kWh']['2018-01-01 00:00:00' : '2018-01-15 23:00:00']\n",
    "\n",
    "plt.plot (x_2017, y_2017, '-p', color = 'black',\n",
    "         markersize = 2, linewidth = 0.5,\n",
    "         markerfacecolor = 'white',\n",
    "         markeredgecolor = 'blue',\n",
    "         markeredgewidth = 2)\n",
    "\n",
    "plt.plot(x_2018, y_2018, '-p', color = 'red',\n",
    "         markersize=2, linewidth=0.5,\n",
    "         markerfacecolor='white',\n",
    "         markeredgecolor='red',\n",
    "         markeredgewidth=2)"
   ]
  }
 ],
 "metadata": {
  "kernelspec": {
   "display_name": "Python 3",
   "language": "python",
   "name": "python3"
  },
  "language_info": {
   "codemirror_mode": {
    "name": "ipython",
    "version": 3
   },
   "file_extension": ".py",
   "mimetype": "text/x-python",
   "name": "python",
   "nbconvert_exporter": "python",
   "pygments_lexer": "ipython3",
   "version": "3.8.5"
  }
 },
 "nbformat": 4,
 "nbformat_minor": 2
}
