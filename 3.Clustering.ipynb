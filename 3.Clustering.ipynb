{
 "cells": [
  {
   "cell_type": "markdown",
   "metadata": {},
   "source": [
    "## Clustering"
   ]
  },
  {
   "cell_type": "code",
   "execution_count": null,
   "metadata": {},
   "outputs": [],
   "source": [
    "import pandas as pd\n",
    "from pandas import DataFrame\n",
    "import numpy as np\n",
    "import matplotlib.pyplot as plt\n",
    "import matplotlib as mtplt\n",
    "import datetime "
   ]
  },
  {
   "cell_type": "code",
   "execution_count": null,
   "metadata": {},
   "outputs": [],
   "source": [
    "df = pd.read_csv('clean_df.csv')\n",
    "df['Date'] = sorted(pd.to_datetime(df['Date']))"
   ]
  },
  {
   "cell_type": "code",
   "execution_count": null,
   "metadata": {},
   "outputs": [],
   "source": [
    "#Clustering\n",
    "from sklearn.cluster import KMeans"
   ]
  },
  {
   "cell_type": "markdown",
   "metadata": {},
   "source": [
    "## Power and hour"
   ]
  },
  {
   "cell_type": "code",
   "execution_count": null,
   "metadata": {},
   "outputs": [],
   "source": [
    "kmeans = KMeans(n_clusters=3)\n",
    "cluster = DataFrame(df,columns=['hour','Power_kWh'])\n",
    "\n",
    "kmeans.fit(cluster)\n",
    "print(kmeans.cluster_centers_)\n",
    "\n",
    "y_km = kmeans.fit_predict(cluster)\n",
    "print(y_km)"
   ]
  },
  {
   "cell_type": "code",
   "execution_count": null,
   "metadata": {},
   "outputs": [],
   "source": [
    "plt.scatter(cluster.hour[y_km ==0], cluster.Power_kWh[y_km == 0], s=10, c='red')\n",
    "plt.scatter(cluster.hour[y_km ==1], cluster.Power_kWh[y_km == 1], s=10, c='black')\n",
    "plt.scatter(cluster.hour[y_km ==2], cluster.Power_kWh[y_km == 2], s=10, c='green')"
   ]
  },
  {
   "cell_type": "markdown",
   "metadata": {},
   "source": [
    "## Power and weekday"
   ]
  },
  {
   "cell_type": "code",
   "execution_count": null,
   "metadata": {},
   "outputs": [],
   "source": [
    "kmeans = KMeans(n_clusters=3)\n",
    "cluster = DataFrame(df,columns=['Weekday','Power_kWh'])\n",
    "\n",
    "kmeans.fit(cluster)\n",
    "print(kmeans.cluster_centers_)\n",
    "\n",
    "y_km = kmeans.fit_predict(cluster)\n",
    "print(y_km)"
   ]
  },
  {
   "cell_type": "code",
   "execution_count": null,
   "metadata": {},
   "outputs": [],
   "source": [
    "plt.scatter(cluster.Weekday[y_km ==0], cluster.Power_kWh[y_km == 0], s=10, c='red')\n",
    "plt.scatter(cluster.Weekday[y_km ==1], cluster.Power_kWh[y_km == 1], s=10, c='black')\n",
    "plt.scatter(cluster.Weekday[y_km ==2], cluster.Power_kWh[y_km == 2], s=10, c='green')"
   ]
  },
  {
   "cell_type": "markdown",
   "metadata": {},
   "source": [
    "## Power and temperature"
   ]
  },
  {
   "cell_type": "code",
   "execution_count": null,
   "metadata": {},
   "outputs": [],
   "source": [
    "kmeans = KMeans(n_clusters=3)\n",
    "cluster = DataFrame(df,columns=['temp_C','Power_kWh'])\n",
    "\n",
    "kmeans.fit(cluster)\n",
    "print(kmeans.cluster_centers_)\n",
    "\n",
    "y_km = kmeans.fit_predict(cluster)\n",
    "print(y_km)"
   ]
  },
  {
   "cell_type": "code",
   "execution_count": null,
   "metadata": {},
   "outputs": [],
   "source": [
    "plt.scatter(cluster.temp_C[y_km ==0], cluster.Power_kWh[y_km == 0], s=10, c='red')\n",
    "plt.scatter(cluster.temp_C[y_km ==1], cluster.Power_kWh[y_km == 1], s=10, c='black')\n",
    "plt.scatter(cluster.temp_C[y_km ==2], cluster.Power_kWh[y_km == 2], s=10, c='green')"
   ]
  },
  {
   "cell_type": "markdown",
   "metadata": {},
   "source": [
    "## Power and Solar irradiaion \n"
   ]
  },
  {
   "cell_type": "code",
   "execution_count": null,
   "metadata": {},
   "outputs": [],
   "source": [
    "kmeans = KMeans(n_clusters=3)\n",
    "cluster = DataFrame(df,columns=['Solar','Power_kWh'])\n",
    "\n",
    "kmeans.fit(cluster)\n",
    "print(kmeans.cluster_centers_)\n",
    "\n",
    "y_km = kmeans.fit_predict(cluster)\n",
    "print(y_km)"
   ]
  },
  {
   "cell_type": "code",
   "execution_count": null,
   "metadata": {},
   "outputs": [],
   "source": [
    "plt.scatter(cluster.Solar[y_km ==0], cluster.Power_kWh[y_km == 0], s=10, c='red')\n",
    "plt.scatter(cluster.Solar[y_km ==1], cluster.Power_kWh[y_km == 1], s=10, c='black')\n",
    "plt.scatter(cluster.Solar[y_km ==2], cluster.Power_kWh[y_km == 2], s=10, c='green')"
   ]
  }
 ],
 "metadata": {
  "kernelspec": {
   "display_name": "Python 3",
   "language": "python",
   "name": "python3"
  },
  "language_info": {
   "codemirror_mode": {
    "name": "ipython",
    "version": 3
   },
   "file_extension": ".py",
   "mimetype": "text/x-python",
   "name": "python",
   "nbconvert_exporter": "python",
   "pygments_lexer": "ipython3",
   "version": "3.8.5"
  }
 },
 "nbformat": 4,
 "nbformat_minor": 4
}
