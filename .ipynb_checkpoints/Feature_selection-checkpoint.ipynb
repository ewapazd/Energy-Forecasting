{
 "cells": [
  {
   "cell_type": "markdown",
   "metadata": {},
   "source": [
    "## 4. Feature Selection"
   ]
  },
  {
   "cell_type": "code",
   "execution_count": null,
   "metadata": {},
   "outputs": [],
   "source": [
    "import pandas as pd\n",
    "from pandas import DataFrame\n",
    "import numpy as np\n",
    "import matplotlib.pyplot as plt\n",
    "import matplotlib as mtplt\n",
    "import datetime "
   ]
  },
  {
   "cell_type": "code",
   "execution_count": null,
   "metadata": {},
   "outputs": [],
   "source": [
    "df = pd.read_csv('clean_df.csv')\n",
    "df['Date'] = sorted(pd.to_datetime(df['Date']))"
   ]
  },
  {
   "cell_type": "code",
   "execution_count": null,
   "metadata": {},
   "outputs": [],
   "source": [
    "df_feature_selection = df.drop (columns = ['day_of_week_name','Unnamed: 0','month','year']) # removing the column with str, cause it causes problems with feature selection algorithms\n",
    "df_feature_selection = df_feature_selection.set_index('Date') #make 'datetime' into index\n",
    "df_feature_selection['Power-1']=df_feature_selection['Power_kWh'].shift(1) # Previous hour consumption\n",
    "df_feature_selection['Power-2']=df_feature_selection['Power_kWh'].shift(2) # Previous hour consumption\n",
    "df_feature_selection"
   ]
  },
  {
   "cell_type": "code",
   "execution_count": null,
   "metadata": {},
   "outputs": [],
   "source": [
    "df_feature_selection = df_feature_selection.dropna()\n",
    "df_feature_selection.head()"
   ]
  },
  {
   "cell_type": "code",
   "execution_count": null,
   "metadata": {},
   "outputs": [],
   "source": [
    "df_feature_selection.to_csv('df_feature_selection.csv')"
   ]
  },
  {
   "cell_type": "code",
   "execution_count": null,
   "metadata": {},
   "outputs": [],
   "source": [
    "# Define input and outputs\n",
    "X=df_feature_selection.values\n",
    "Y=X[:,0] # prediction variable\n",
    "X=X[:,[1,2,3,4,5,6,7]] # features that contribute to my predicted variable"
   ]
  },
  {
   "cell_type": "markdown",
   "metadata": {},
   "source": [
    "## K-Best method"
   ]
  },
  {
   "cell_type": "code",
   "execution_count": null,
   "metadata": {},
   "outputs": [],
   "source": [
    "from sklearn.feature_selection import SelectKBest\n",
    "from sklearn.feature_selection import f_regression"
   ]
  },
  {
   "cell_type": "code",
   "execution_count": null,
   "metadata": {},
   "outputs": [],
   "source": [
    "features=SelectKBest(k=3,score_func=f_regression)\n",
    "fit=features.fit(X,Y)\n",
    "print(fit.scores_)\n",
    "features_results=fit.transform(X)\n",
    "print(features_results) #weekday, holiday, temp_C, Solar, hour, Power-1, Power-2 ---- order of the features"
   ]
  },
  {
   "cell_type": "code",
   "execution_count": null,
   "metadata": {},
   "outputs": [],
   "source": [
    "# Importance: Power-1, Power-2"
   ]
  },
  {
   "cell_type": "markdown",
   "metadata": {},
   "source": [
    "## Random forest regressor"
   ]
  },
  {
   "cell_type": "code",
   "execution_count": null,
   "metadata": {},
   "outputs": [],
   "source": [
    "from sklearn.ensemble import RandomForestRegressor\n",
    "model = RandomForestRegressor()\n",
    "model.fit(X, Y)\n",
    "print(model.feature_importances_) #weekday, holiday, temp_C, Solar, hour, Power-1, Power-2 ---- order of the featuers"
   ]
  },
  {
   "cell_type": "code",
   "execution_count": null,
   "metadata": {},
   "outputs": [],
   "source": [
    "# Importance: Power -1, hour"
   ]
  },
  {
   "cell_type": "markdown",
   "metadata": {},
   "source": [
    "## Recursive Feature Elimination"
   ]
  },
  {
   "cell_type": "code",
   "execution_count": null,
   "metadata": {},
   "outputs": [],
   "source": [
    "#Recursive Feature Elimination\n",
    "\n",
    "from sklearn.feature_selection import RFE\n",
    "from sklearn.linear_model import LinearRegression\n",
    "\n",
    "model=LinearRegression() # LinearRegression Model as Estimator\n",
    "rfe1=RFE(model,2)# using 2 features\n",
    "rfe2=RFE(model,3) # using 3 features\n",
    "\n",
    "fit1=rfe1.fit(X,Y)\n",
    "fit2=rfe2.fit(X,Y)"
   ]
  },
  {
   "cell_type": "code",
   "execution_count": null,
   "metadata": {},
   "outputs": [],
   "source": [
    "print( \"Feature Ranking (Linear Model, 2 features): %s\" % (fit1.ranking_)) \n",
    "print( \"Feature Ranking (Linear Model, 3 features): %s\" % (fit2.ranking_)) "
   ]
  },
  {
   "cell_type": "code",
   "execution_count": null,
   "metadata": {},
   "outputs": [],
   "source": [
    "#Most important data: Power -1, hour, Power-2"
   ]
  }
 ],
 "metadata": {
  "kernelspec": {
   "display_name": "Python 3",
   "language": "python",
   "name": "python3"
  },
  "language_info": {
   "codemirror_mode": {
    "name": "ipython",
    "version": 3
   },
   "file_extension": ".py",
   "mimetype": "text/x-python",
   "name": "python",
   "nbconvert_exporter": "python",
   "pygments_lexer": "ipython3",
   "version": "3.8.5"
  }
 },
 "nbformat": 4,
 "nbformat_minor": 2
}
