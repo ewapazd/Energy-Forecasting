{
 "cells": [
  {
   "cell_type": "markdown",
   "metadata": {},
   "source": [
    "## 1. Data Cleaning and processing"
   ]
  },
  {
   "cell_type": "code",
   "execution_count": null,
   "metadata": {},
   "outputs": [],
   "source": [
    "import pandas as pd\n",
    "import numpy as np\n",
    "import matplotlib.pyplot as plt\n",
    "import matplotlib as mtplt\n",
    "import datetime as dat\n",
    "from datetime import datetime\n",
    "\n",
    "#Importing my files\n",
    "df_import_1 = pd.read_csv('Energy2017.csv')\n",
    "df_import_2 = pd.read_csv('Energy2018.csv')\n",
    "df_import_3 = pd.read_csv('Meteo_data_2017_2018_2019.dat')\n",
    "\n",
    "#Making \"RAW\" copies for working\n",
    "df_1 = df_import_1.copy(deep = True)\n",
    "df_2 = df_import_2.copy(deep = True) \n",
    "df_3 = df_import_3.copy(deep = True) \n",
    "\n",
    "df_3 = df_3 [~df_3['yyyy-mm-dd hh:mm:ss'].str.contains('2019', na=False)]\n",
    "df_3.info()"
   ]
  },
  {
   "cell_type": "code",
   "execution_count": null,
   "metadata": {},
   "outputs": [],
   "source": [
    "#Now cutting the redundant lines and columns\n",
    "df_1 = df_1.iloc[:8760]\n",
    "df_2 = df_2.iloc[:8760]\n",
    "df_1 = df_1.drop (columns = ['Duration','Date_end']) \n",
    "df_2 = df_2.drop (columns = ['Duration','Date_end']) \n",
    "df_1.rename(columns = {'Power_kW': 'Power_kWh'}, inplace = True)\n",
    "df_2.rename(columns = {'Power_kW': 'Power_kWh'}, inplace = True)\n",
    "\n",
    "df_1['Date'] = sorted(pd.to_datetime(df_1['Date_start']))\n",
    "df_2['Date'] = sorted(pd.to_datetime(df_2['Date_start']))\n",
    "#adding 'sorted' before the parenthesis is important to avoid switching between the days and months\n",
    "\n",
    "\n",
    "df_3['pres_mbar'] = df_3['pres_mbar'].astype(float)\n",
    "df_3 = df_3.drop (columns = ['windSpeed_m/s','windGust_m/s','rain_mm/h','rain_day'])"
   ]
  },
  {
   "cell_type": "code",
   "execution_count": null,
   "metadata": {},
   "outputs": [],
   "source": [
    "# Merging the files into a one file\n",
    "df = df_1.merge(df_2,how = 'outer')\n",
    "df.tail()\n",
    "df.columns"
   ]
  },
  {
   "cell_type": "code",
   "execution_count": null,
   "metadata": {},
   "outputs": [],
   "source": [
    "#Creating the weekday column\n",
    "df['day_of_week'] = df['Date'].dt.weekday\n",
    "df['day_of_week_name'] = df['Date'].dt.day_name"
   ]
  },
  {
   "cell_type": "code",
   "execution_count": null,
   "metadata": {},
   "outputs": [],
   "source": [
    "# Changing the numbering so that it starts with Monday = 1, to Sunday = 7\n",
    "\n",
    "df['Weekday'] = df['day_of_week'] + 1 \n",
    "df = df.drop (columns = ['day_of_week'])\n",
    "df[0:10]"
   ]
  },
  {
   "cell_type": "code",
   "execution_count": null,
   "metadata": {},
   "outputs": [],
   "source": [
    "#Adding the holidays column\n",
    "\n",
    "holiday = ['2017-01-01', '2017-04-14', '2017-04-16', '2017-04-25', '2017-05-01', '2017-06-10', '2017-06-15', \n",
    "                  '2017-08-15', '2017-10-05', '2017-11-01', '2017-12-01', '2017-12-08', '2017-12-25','2018-01-01', '2018-03-30', '2018-04-01', '2018-04-25', '2018-05-01', '2018-05-31', '2018-06-10',  \n",
    "                  '2018-08-15', '2018-10-05', '2018-11-01', '2018-12-01', '2018-12-08', '2018-12-25',('2017-02-16', '2017-02-20'), ('2017-02-27', '2017-03-01'), ('2017-04-10', '2017-04-15'),\n",
    "                   ('2017-08-01', '2017-09-11'), ('2017-12-23', '2017-12-30'),('2018-02-15', '2018-02-19'), ('2018-03-26', '2018-03-31'), ('2018-08-01', '2018-09-10'), \n",
    "                  ('2018-12-22', '2019-01-01')]\n",
    "\n",
    "df['Holiday'] = [df['Date'][i].strftime(\"%Y-%m-%d\") in holiday for i in range(df.shape[0])]\n",
    "\n",
    "df.Holiday = df.Holiday.replace({True: 1, False: 0}) # changing the true and false booleans into 0 and 1 values\n",
    "df['Holiday'] = df['Holiday'].astype(float) #changing 1 and 0 values to floats to avoid errors in the feature selection part\n",
    "\n",
    "#now if the given day is a holiday, we will see 1.0 in the holiday column"
   ]
  },
  {
   "cell_type": "code",
   "execution_count": null,
   "metadata": {},
   "outputs": [],
   "source": [
    "df_3 = df_3.rename(columns = {'yyyy-mm-dd hh:mm:ss':'Date'})\n",
    "df_3.rename(columns = {'solarRad_W/m2': 'Solar'}, inplace = True)\n",
    "\n",
    "df_3['Date'] = pd.to_datetime(df_3['Date']) # changing into the datetime format\n",
    "\n",
    "df_3 = df_3.resample('60min', on = 'Date').mean() # down sampling the weather file\n",
    "df_3.head()"
   ]
  },
  {
   "cell_type": "code",
   "execution_count": null,
   "metadata": {
    "scrolled": true
   },
   "outputs": [],
   "source": [
    "df = df.merge(df_3, how='left', on=['Date']) # merging the power and weather files\n",
    "df.info()"
   ]
  },
  {
   "cell_type": "code",
   "execution_count": null,
   "metadata": {},
   "outputs": [],
   "source": [
    "df = df.drop (columns = ['Current1_Ah','Current2_Ah','Current3_Ah','HR','pres_mbar','Date_start'])\n",
    "\n",
    "df = df.interpolate(method='linear', limit_direction ='forward') # filling in the empty records in the weather file columns (around 2000 data missing - filling based on the interpolation)"
   ]
  },
  {
   "cell_type": "code",
   "execution_count": null,
   "metadata": {},
   "outputs": [],
   "source": [
    "df[df.isnull().any(axis = 'columns')] # checking if i have any NaN entries"
   ]
  },
  {
   "cell_type": "code",
   "execution_count": null,
   "metadata": {},
   "outputs": [],
   "source": [
    "df['hour'] = df['Date'].dt.hour\n",
    "df.dtypes #checking if everything is correct"
   ]
  },
  {
   "cell_type": "code",
   "execution_count": null,
   "metadata": {},
   "outputs": [],
   "source": [
    "#changing ints into floats\n",
    "df['Weekday'] = df['Weekday'].astype(float)\n",
    "df['hour'] = df['hour'].astype(float)\n",
    "df = df.drop (columns = ['Total_Ah'])"
   ]
  },
  {
   "cell_type": "code",
   "execution_count": null,
   "metadata": {},
   "outputs": [],
   "source": [
    "df.info()"
   ]
  },
  {
   "cell_type": "code",
   "execution_count": null,
   "metadata": {},
   "outputs": [],
   "source": [
    "df['year'] = df['Date'].dt.year\n",
    "df['month'] = df['Date'].dt.month"
   ]
  },
  {
   "cell_type": "code",
   "execution_count": null,
   "metadata": {},
   "outputs": [],
   "source": [
    "# Save clean dataset\n",
    "df.to_csv('clean_df.csv')"
   ]
  }
 ],
 "metadata": {
  "kernelspec": {
   "display_name": "Python 3",
   "language": "python",
   "name": "python3"
  },
  "language_info": {
   "codemirror_mode": {
    "name": "ipython",
    "version": 3
   },
   "file_extension": ".py",
   "mimetype": "text/x-python",
   "name": "python",
   "nbconvert_exporter": "python",
   "pygments_lexer": "ipython3",
   "version": "3.8.5"
  }
 },
 "nbformat": 4,
 "nbformat_minor": 2
}
