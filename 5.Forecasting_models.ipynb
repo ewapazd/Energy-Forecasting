{
 "cells": [
  {
   "cell_type": "markdown",
   "metadata": {},
   "source": [
    "## 5. Forecast"
   ]
  },
  {
   "cell_type": "code",
   "execution_count": null,
   "metadata": {},
   "outputs": [],
   "source": [
    "import pandas as pd\n",
    "from pandas import DataFrame\n",
    "import numpy as np\n",
    "import matplotlib.pyplot as plt\n",
    "import matplotlib as mtplt\n",
    "import datetime "
   ]
  },
  {
   "cell_type": "code",
   "execution_count": null,
   "metadata": {},
   "outputs": [],
   "source": [
    "df = pd.read_csv('df_feature_selection.csv')\n",
    "df['Date'] = sorted(pd.to_datetime(df['Date']))\n",
    "df = df.set_index('Date')\n",
    "df"
   ]
  },
  {
   "cell_type": "code",
   "execution_count": null,
   "metadata": {},
   "outputs": [],
   "source": [
    "from sklearn.model_selection import train_test_split\n",
    "from sklearn import  metrics\n",
    "from sklearn import  linear_model\n",
    "from sklearn.ensemble import RandomForestRegressor"
   ]
  },
  {
   "cell_type": "code",
   "execution_count": null,
   "metadata": {},
   "outputs": [],
   "source": [
    "X=df.values\n",
    "Y=X[:,0]\n",
    "X=X[:,[1,5,6,7]] # Data from the feature selection (Power-1, Power-2, hour)"
   ]
  },
  {
   "cell_type": "code",
   "execution_count": null,
   "metadata": {},
   "outputs": [],
   "source": [
    "X_train, X_test, y_train, y_test = train_test_split(X,Y)\n",
    "print(X_train)\n",
    "print(y_train)"
   ]
  },
  {
   "cell_type": "markdown",
   "metadata": {},
   "source": [
    "## Linear Regression"
   ]
  },
  {
   "cell_type": "code",
   "execution_count": null,
   "metadata": {},
   "outputs": [],
   "source": [
    "from sklearn import  linear_model\n",
    "\n",
    "regr = linear_model.LinearRegression()\n",
    "\n",
    "regr.fit(X_train,y_train)\n",
    "\n",
    "y_pred_LR = regr.predict(X_test)"
   ]
  },
  {
   "cell_type": "code",
   "execution_count": null,
   "metadata": {},
   "outputs": [],
   "source": [
    "plt.plot(y_test[1:200],  c='black')\n",
    "plt.plot(y_pred_LR[1:200], c = 'red') #red is the forecast\n",
    "plt.show()\n",
    "plt.scatter(y_test,y_pred_LR, s=10, c='green')"
   ]
  },
  {
   "cell_type": "code",
   "execution_count": null,
   "metadata": {},
   "outputs": [],
   "source": [
    "#Evaluate errors\n",
    "MAE_LR=metrics.mean_absolute_error(y_test,y_pred_LR) \n",
    "MSE_LR=metrics.mean_squared_error(y_test,y_pred_LR)  \n",
    "RMSE_LR= np.sqrt(metrics.mean_squared_error(y_test,y_pred_LR))\n",
    "cvRMSE_LR=RMSE_LR/np.mean(y_test) #error in %\n",
    "print(MAE_LR, MSE_LR, RMSE_LR,cvRMSE_LR)"
   ]
  },
  {
   "cell_type": "markdown",
   "metadata": {},
   "source": [
    "## Support Vector Machine"
   ]
  },
  {
   "cell_type": "code",
   "execution_count": null,
   "metadata": {},
   "outputs": [],
   "source": [
    "from sklearn.preprocessing import StandardScaler\n",
    "from sklearn.svm import SVR\n",
    "\n",
    "sc_X = StandardScaler()\n",
    "sc_y = StandardScaler()\n",
    "X_train = sc_X.fit_transform(X_train)\n",
    "y_train = sc_y.fit_transform(y_train.reshape(-1,1))\n"
   ]
  },
  {
   "cell_type": "code",
   "execution_count": null,
   "metadata": {},
   "outputs": [],
   "source": [
    "regr = SVR(kernel='rbf')\n",
    "regr.fit(X_train,y_train)"
   ]
  },
  {
   "cell_type": "code",
   "execution_count": null,
   "metadata": {},
   "outputs": [],
   "source": [
    "y_pred_SVR = regr.predict(sc_X.fit_transform(X_test))\n",
    "y_test_SVR = sc_y.fit_transform(y_test.reshape(-1,1))\n",
    "y_pred_SVR2 = sc_y.inverse_transform(y_pred_SVR)\n",
    "\n",
    "plt.plot(y_test_SVR[1:200], c = 'black')\n",
    "plt.plot(y_pred_SVR[1:200], c = 'red') # red is the forecast\n",
    "plt.show()\n",
    "plt.plot(y_test[1:200], c='black')\n",
    "plt.plot(y_pred_SVR2[1:200], c='red')"
   ]
  },
  {
   "cell_type": "code",
   "execution_count": null,
   "metadata": {},
   "outputs": [],
   "source": [
    "plt.scatter(y_test_SVR,y_pred_SVR2, s=10, c='green')\n",
    "plt.show()"
   ]
  },
  {
   "cell_type": "code",
   "execution_count": null,
   "metadata": {},
   "outputs": [],
   "source": [
    "MAE_SVR=metrics.mean_absolute_error(y_test,y_pred_SVR2) \n",
    "MSE_SVR=metrics.mean_squared_error(y_test,y_pred_SVR2)  \n",
    "RMSE_SVR= np.sqrt(metrics.mean_squared_error(y_test,y_pred_SVR2))\n",
    "cvRMSE_SVR=RMSE_SVR/np.mean(y_test)\n",
    "print(MAE_SVR, MSE_SVR, RMSE_SVR,cvRMSE_SVR)"
   ]
  },
  {
   "cell_type": "markdown",
   "metadata": {},
   "source": [
    "## Choosing the model"
   ]
  },
  {
   "cell_type": "markdown",
   "metadata": {},
   "source": [
    "Support Vector Machine"
   ]
  },
  {
   "cell_type": "code",
   "execution_count": null,
   "metadata": {},
   "outputs": [],
   "source": [
    "df_predicted = pd.DataFrame({'Predicted':y_pred_SVR2})\n",
    "df_predicted['Date'] = pd.date_range('1/1/2019', periods = len(y_pred_SVR2), freq ='H') \n",
    "df_predicted"
   ]
  },
  {
   "cell_type": "code",
   "execution_count": null,
   "metadata": {},
   "outputs": [],
   "source": [
    "#Save the forecast\n",
    "df_predicted.to_csv('df_forecast.csv')"
   ]
  }
 ],
 "metadata": {
  "kernelspec": {
   "display_name": "Python 3",
   "language": "python",
   "name": "python3"
  },
  "language_info": {
   "codemirror_mode": {
    "name": "ipython",
    "version": 3
   },
   "file_extension": ".py",
   "mimetype": "text/x-python",
   "name": "python",
   "nbconvert_exporter": "python",
   "pygments_lexer": "ipython3",
   "version": "3.8.5"
  }
 },
 "nbformat": 4,
 "nbformat_minor": 2
}
